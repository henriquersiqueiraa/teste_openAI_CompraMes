{
  "cells": [
    {
      "cell_type": "code",
      "execution_count": null,
      "metadata": {
        "id": "7L3DUKcCImrS"
      },
      "outputs": [],
      "source": [
        "#instalar a biblioteca da OpenAI;\n",
        "!pip install -q openai"
      ]
    },
    {
      "cell_type": "code",
      "execution_count": null,
      "metadata": {
        "id": "UYLPcoRfK3GQ"
      },
      "outputs": [],
      "source": [
        "from google.colab import userdata\n",
        "import openai\n",
        "import os\n",
        "\n",
        "# gera a API Key (Chave da API)\n",
        "os.environ = {\"OPENAI_API_KEY\": openai.api_key}\n",
        "\n",
        "# É preciso definir a persona do sistema e histórico de mensagens\n",
        "messages = [\n",
        "    {\"role\": \"system\", \"content\": \"Você é um especialista em marketing bancário.\"}, # Gera a persona do modelo se vai ser educado, gentil, etc.;\n",
        "]\n",
        "messages = [\n",
        "    {\"role\": \"system\", \"content\": \"Você é um especialista em marketing bancário.\"}, # Gera a persona do modelo se vai ser educado, gentil, etc.;\n",
        "]"
      ]
    },
    {
      "cell_type": "code",
      "execution_count": null,
      "metadata": {
        "colab": {
          "base_uri": "https://localhost:8080/",
          "height": 106
        },
        "id": "GiAl8BZCLSPh",
        "outputId": "2aedd006-f6a5-4ed8-df08-66b234173fc7"
      },
      "outputs": [
        {
          "ename": "IndentationError",
          "evalue": "unexpected indent (<ipython-input-40-fdcd39625c87>, line 36)",
          "output_type": "error",
          "traceback": [
            "\u001b[0;36m  File \u001b[0;32m\"<ipython-input-40-fdcd39625c87>\"\u001b[0;36m, line \u001b[0;32m36\u001b[0m\n\u001b[0;31m    response = openai.ChatCompletion.create(\u001b[0m\n\u001b[0m    ^\u001b[0m\n\u001b[0;31mIndentationError\u001b[0m\u001b[0;31m:\u001b[0m unexpected indent\n"
          ]
        }
      ],
      "source": [
        "import openai\n",
        "\n",
        "# Histórico inicial\n",
        "messages = [\n",
        "    {\"role\": \"system\", \"content\": \"Você é um assistente especializado em cálculos.\"}\n",
        "]\n",
        "\n",
        "# Pergunta inicial\n",
        "prompt = \"\"\"Retorne no final sempre a string do seguinte: 'Resultado: ' com\n",
        "apenas valor do resultado depois dela, pois nenhuma operação nem pontuação além\n",
        "do valor.\n",
        "\n",
        "Pergunta: Se houver 3 carros no estacionamento e chegarem mais 2 carros, quantos\n",
        "carros terão no estacionamento?\n",
        "Resposta: Já existem 3 carros no estacionamento. Chegam mais 2. Agora existem 3\n",
        "+ 2 = 5 carros. A resposta é 5.\n",
        "Resultado: 5 carros no estacionamento.\n",
        "\n",
        "Pergunta: Os patos de Janet botam 16 ovos por dia. Ela come três no café da\n",
        "manhã e faz muffins para seus amigos todos os dias usando mais quatro. Ela\n",
        "vende o restante por 48 reais por dúzia. Quanto dinheiro ela ganha todos os\n",
        "dias?\n",
        "Resposta:\n",
        "Resultado:\"\"\"\n",
        "\n",
        "messages.append({\"role\": \"user\", \"content\": prompt})\n",
        "\n",
        "# Número de iterações\n",
        "loops = 4\n",
        "answers = []\n",
        "\n",
        "for loop in range(loops):\n",
        "    print(f\"### LOOP {loop}:\\n\")\n",
        "\n",
        "    # Chamando a API\n",
        "      response = openai.ChatCompletion.create(\n",
        "          model=\"gpt-3.5-turbo\",\n",
        "          messages=messages,\n",
        "          max_tokens=200,\n",
        "          temperature=1\n",
        "      )\n",
        "\n",
        "    # Resposta do modelo\n",
        "    answer = response.choices[0].message.content\n",
        "    print(answer)\n",
        "\n",
        "    # Extração do valor após \"Resultado: \"\n",
        "    start_index = answer.find(\"Resultado: \") + len(\"Resultado: \")\n",
        "    if \"Resultado: \" in answer:\n",
        "        result_part = answer[start_index:].strip()\n",
        "        try:\n",
        "            # Considerando apenas o número antes de qualquer texto\n",
        "            number_answer = int(result_part.split()[0].rstrip('.'))\n",
        "            answers.append(number_answer)\n",
        "            print(f\"Answer: {number_answer}\\n-------------\")\n",
        "        except ValueError:\n",
        "            print(\"Erro: Resultado não contém um número válido.\\n-------------\")\n",
        "    else:\n",
        "        print(\"Erro: 'Resultado: ' não encontrado na resposta.\\n-------------\")\n",
        "\n",
        "# Análise dos resultados\n",
        "print(\"Respostas:\", answers, '\\n')\n",
        "\n",
        "if answers:\n",
        "    most_frequent_number = max(set(answers), key=answers.count)\n",
        "    print(f\"O número mais frequente é: {most_frequent_number}, que aparece {answers.count(most_frequent_number)} vezes.\", \"\\n-------\\n\")\n",
        "else:\n",
        "    print(\"Nenhuma resposta válida foi obtida.\")\n"
      ]
    }
  ],
  "metadata": {
    "colab": {
      "provenance": []
    },
    "kernelspec": {
      "display_name": "Python 3",
      "name": "python3"
    },
    "language_info": {
      "name": "python"
    }
  },
  "nbformat": 4,
  "nbformat_minor": 0
}
